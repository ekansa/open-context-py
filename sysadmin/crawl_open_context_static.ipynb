{
 "cells": [
  {
   "cell_type": "code",
   "execution_count": null,
   "metadata": {},
   "outputs": [],
   "source": [
    "import requests\n",
    "import lxml, lxml.html\n",
    "from urllib.parse import urlparse, urlunparse, urljoin\n",
    "from pathlib import Path\n",
    "import time\n",
    "import os\n",
    "\n",
    "\n",
    "def url_join_path(url, path=None):\n",
    "    pr = list(urlparse(url))\n",
    "    if path is not None:\n",
    "        pr[2] = urljoin(pr[2], path)\n",
    "    return urlunparse(pr)\n",
    "\n",
    "def is_subpath(url1, url2):\n",
    "    p1 = urlparse(url1)\n",
    "    p2 = urlparse(url2)\n",
    "    \n",
    "    if p1.netloc != p2.netloc:\n",
    "        return False\n",
    "    \n",
    "    if p2.path.startswith(p1.path):\n",
    "        return True\n",
    "    else:\n",
    "        return False\n",
    "    \n",
    "assert is_subpath('https://opencontext.org/static/', 'https://opencontext.org/static/' ) is True\n",
    "assert is_subpath('https://opencontext.org/static/', 'https://nytimes.com' ) is False\n",
    "assert is_subpath('https://opencontext.org/static/', 'https://opencontext.org/' ) is False\n",
    "assert is_subpath('https://opencontext.org/static/', 'https://opencontext.org' ) is False\n",
    "\n",
    "\n",
    "root_url = \"https://opencontext.org/static/\"\n"
   ]
  },
  {
   "cell_type": "code",
   "execution_count": null,
   "metadata": {},
   "outputs": [],
   "source": [
    "def crawl (url, local_root, base_url, download=True, level=0, maxlevel=None):\n",
    "\n",
    "    # reject urls that are not in the subroot\n",
    "    # print (level, url, base_url)\n",
    "    \n",
    "    if not is_subpath(base_url, url):\n",
    "        return \n",
    "    \n",
    "    if maxlevel is not None and level > maxlevel:\n",
    "        return \n",
    "    \n",
    "    r = requests.get(url)\n",
    "    if r.status_code != 200:\n",
    "        return \n",
    "    \n",
    "    # leaf or directory?\n",
    "    if (url.endswith('/') and r.headers['content-type'].startswith('text/html')):\n",
    "        html = lxml.html.fromstring(r.text)\n",
    "        for a in html.cssselect('a'):\n",
    "            yield from crawl(url=url_join_path (url, a.attrib['href']), \n",
    "                  local_root=local_root, \n",
    "                  base_url=url, download=download, level=level+1, maxlevel=maxlevel)\n",
    "    else:\n",
    "        \n",
    "        p = Path(urlparse(url).path).relative_to('/static')\n",
    "        p0 = Path(local_root)\n",
    "        local_path = Path.joinpath(p0, p)\n",
    "        yield ({'relative_path':p, \n",
    "                'local_path':local_path, \n",
    "                'content': r.content\n",
    "               })\n",
    "        \n",
    "\n",
    "\n"
   ]
  },
  {
   "cell_type": "code",
   "execution_count": null,
   "metadata": {},
   "outputs": [],
   "source": [
    "from itertools import islice\n",
    "\n",
    "for (i,k) in enumerate(islice(crawl(root_url, '/Users/raymondyee/C/src/open-context-py/sysadmin/static', root_url, download=False, level=0, maxlevel=None),300,None)):\n",
    "    time.sleep(0.5)\n",
    "    print (i, k['local_path'], len(k['content']))\n",
    "    filename = k['local_path']\n",
    "    os.makedirs(os.path.dirname(filename), exist_ok=True)\n",
    "    with open(filename, \"wb\") as f:\n",
    "        f.write(k['content'])\n"
   ]
  },
  {
   "cell_type": "code",
   "execution_count": null,
   "metadata": {},
   "outputs": [],
   "source": []
  }
 ],
 "metadata": {
  "kernelspec": {
   "display_name": "Python 3",
   "language": "python",
   "name": "python3"
  },
  "language_info": {
   "codemirror_mode": {
    "name": "ipython",
    "version": 3
   },
   "file_extension": ".py",
   "mimetype": "text/x-python",
   "name": "python",
   "nbconvert_exporter": "python",
   "pygments_lexer": "ipython3",
   "version": "3.7.1"
  },
  "toc": {
   "base_numbering": 1,
   "nav_menu": {},
   "number_sections": false,
   "sideBar": false,
   "skip_h1_title": false,
   "title_cell": "Table of Contents",
   "title_sidebar": "Contents",
   "toc_cell": false,
   "toc_position": {},
   "toc_section_display": false,
   "toc_window_display": false
  }
 },
 "nbformat": 4,
 "nbformat_minor": 2
}
